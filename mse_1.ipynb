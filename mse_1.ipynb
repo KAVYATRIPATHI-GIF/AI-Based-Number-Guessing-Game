{
  "nbformat": 4,
  "nbformat_minor": 0,
  "metadata": {
    "colab": {
      "provenance": [],
      "toc_visible": true,
      "authorship_tag": "ABX9TyPuNZLw/X+Ui300Uh0NXSAg",
      "include_colab_link": true
    },
    "kernelspec": {
      "name": "python3",
      "display_name": "Python 3"
    },
    "language_info": {
      "name": "python"
    }
  },
  "cells": [
    {
      "cell_type": "markdown",
      "metadata": {
        "id": "view-in-github",
        "colab_type": "text"
      },
      "source": [
        "<a href=\"https://colab.research.google.com/github/KAVYATRIPATHI-GIF/AI-Based-Number-Guessing-Game/blob/main/mse_1.ipynb\" target=\"_parent\"><img src=\"https://colab.research.google.com/assets/colab-badge.svg\" alt=\"Open In Colab\"/></a>"
      ]
    },
    {
      "cell_type": "code",
      "execution_count": 4,
      "metadata": {
        "colab": {
          "base_uri": "https://localhost:8080/"
        },
        "id": "5ZLv88tohmmw",
        "outputId": "5b913d5d-7b57-4fe8-8175-c2947b39b7fe"
      },
      "outputs": [
        {
          "output_type": "stream",
          "name": "stdout",
          "text": [
            "Welcome to the AI-based Number Guessing Game!\n",
            "Think of a number between 1 and 100 and keep it in your mind.\n",
            "I will try to guess your number by asking if it's higher, lower, or correct.\n",
            "\n",
            "Is your number 50?\n",
            "Please respond with 'higher', 'lower', or 'correct': lower\n",
            "\n",
            "Is your number 25?\n",
            "Please respond with 'higher', 'lower', or 'correct': higher\n",
            "\n",
            "Is your number 37?\n",
            "Please respond with 'higher', 'lower', or 'correct': higher\n",
            "\n",
            "Is your number 43?\n",
            "Please respond with 'higher', 'lower', or 'correct': lower\n",
            "\n",
            "Is your number 40?\n",
            "Please respond with 'higher', 'lower', or 'correct': higher\n",
            "\n",
            "Is your number 41?\n",
            "Please respond with 'higher', 'lower', or 'correct': higher\n",
            "\n",
            "Is your number 42?\n",
            "Please respond with 'higher', 'lower', or 'correct': correct\n",
            "\n",
            "Yay! I have guessed your number 42 in 7 attempts!\n"
          ]
        }
      ],
      "source": [
        "import random\n",
        "\n",
        "def ai_guessing_game():\n",
        "    print(\"Welcome to the AI-based Number Guessing Game!\")\n",
        "    print(\"Think of a number between 1 and 100 and keep it in your mind.\")\n",
        "    print(\"I will try to guess your number by asking if it's higher, lower, or correct.\")\n",
        "\n",
        "    low = 1\n",
        "    high = 100\n",
        "    attempts = 0\n",
        "\n",
        "    while True:\n",
        "        attempts += 1\n",
        "        guess = (low + high) // 2\n",
        "        print(f\"\\nIs your number {guess}?\")\n",
        "\n",
        "        feedback = input(\"Please respond with 'higher', 'lower', or 'correct': \").lower()\n",
        "\n",
        "        if feedback == \"higher\":\n",
        "            low = guess + 1\n",
        "        elif feedback == \"lower\":\n",
        "            high = guess - 1\n",
        "        elif feedback == \"correct\":\n",
        "            print(f\"\\nYay! I have guessed your number {guess} in {attempts} attempts!\")\n",
        "            break\n",
        "        else:\n",
        "            print(\"Invalid input. Please respond with 'higher', 'lower', or 'correct'.\")\n",
        "\n",
        "if __name__ == \"__main__\":\n",
        "    ai_guessing_game()\n"
      ]
    }
  ]
}